{
 "cells": [
  {
   "cell_type": "markdown",
   "metadata": {},
   "source": [
    "# Stack Implementation\n",
    "\n",
    "We will implement a simple Stack data structure to store a list of items and apply some operations on them.\n",
    "\n",
    "## What is Stack?\n",
    "\n",
    "Stack is similar with Queue in that it is an abstract data structure that can be used to store a list of items and manipulate & apply operations on them.\n",
    "\n",
    "The differences are \n",
    "\n",
    "- Stacks are based on **LIFO** trait which means that last element to be added to the stack will be the first one to be removed. *In queue, this WAS NOT the case. Queue removes the first-in item first **FIFO**.*\n",
    "\n",
    "### Stack Properties\n",
    "\n",
    "The Stack data structure unlike Queue only need to keep track of its top (queue tracks both its front and back).\n",
    "\n",
    "**Top** is the element in line to be removed if removal method is called. ALso it is the element at whose position will be taken by an incoming element when adding external element to the stack. \n",
    "\n",
    "\n",
    "### Stack Methods (Operations)\n",
    "\n",
    "We need to have minimum of two operations. The goals for these operations are the same with those from Queue data structure which are **to add** and **to remove**. \n",
    "\n",
    "In Stack, we refer to add as to **push** whereas we can say to **pop** means to remove the top element.\n",
    "\n",
    "### Implementation\n",
    "\n",
    "Just like we did in implementing Queue data structure, I will restrict the pushed element to only integers, floats, and complex numbers for simplicity.\n",
    "\n",
    "Also, we are going to need to keep track of the list of items being pushed. We also need to keep track of what element is at the top of stack."
   ]
  },
  {
   "cell_type": "code",
   "execution_count": null,
   "metadata": {},
   "outputs": [],
   "source": [
    "# type hinting for Stack\n",
    "from typing import List, Union, Optional\n",
    "\n",
    "StackElementType = Union[int, float, complex]\n",
    "StackListType = List[StackElementType]"
   ]
  },
  {
   "cell_type": "code",
   "execution_count": null,
   "metadata": {},
   "outputs": [],
   "source": [
    "class Stack:\n",
    "\n",
    "    def __init__(self) -> None:\n",
    "        self._list : StackListType = []\n",
    "        self._length : int = 0\n",
    "\n",
    "        self._top : StackElementType = None\n",
    "\n",
    "    @property\n",
    "    def list(self) -> StackListType:\n",
    "        return self._list \n",
    "    @property\n",
    "    def length(self) -> int:\n",
    "        return self._length\n",
    "    @property\n",
    "    def top(self) -> StackElementType:\n",
    "        return self._top\n",
    "        \n",
    "    def __str__(self) -> str:\n",
    "        return f'Stack{self._list}'\n",
    "    \n",
    "    def is_list_empty(self) -> bool:\n",
    "        return self._length == 0\n",
    "\n",
    "    def push(self, _item : StackElementType) -> None:\n",
    "        self._list.append(_item)\n",
    "        self._top = self._list[-1]\n",
    "        self._length += 1\n",
    "\n",
    "    def pop(self) -> StackElementType:\n",
    "        if self.is_list_empty():\n",
    "            print(f'{str(self)} cannot operate on popping: No element to pop exists.')\n",
    "        else:\n",
    "            popped = self._list[-1]\n",
    "            self._list = self._list[:-1]\n",
    "            self._top = self._list[-1]\n",
    "            self._length -= 1\n",
    "            return popped\n"
   ]
  },
  {
   "cell_type": "code",
   "execution_count": null,
   "metadata": {},
   "outputs": [],
   "source": [
    "# Stack Playground\n",
    "\n",
    "S1 = Stack()\n",
    "\n",
    "S1.push(10)\n",
    "\n",
    "print(S1) # Stack[10]\n",
    "\n",
    "S1.push(100)\n",
    "\n",
    "print(S1) # Stack[10, 100]\n",
    "\n",
    "S1.push(3.14)\n",
    "\n",
    "print(S1) # Stack[10, 100, 3.14]\n",
    "\n",
    "popped = S1.pop()\n",
    "\n",
    "print(S1) # Stack[10, 100]\n",
    "print(popped) # 3.14\n",
    "\n",
    "S1.push(popped)\n",
    "\n",
    "print(popped == S1.top, S1) # True Stack[10, 100, 3.14]"
   ]
  },
  {
   "cell_type": "code",
   "execution_count": 15,
   "metadata": {},
   "outputs": [
    {
     "name": "stdout",
     "output_type": "stream",
     "text": [
      "\u001b[1m\u001b[32mSuccess: no issues found in 1 source file\u001b[m\n"
     ]
    }
   ],
   "source": [
    "!mypy stack.ipynb"
   ]
  }
 ],
 "metadata": {
  "kernelspec": {
   "display_name": "Python 3.10.5 ('env': venv)",
   "language": "python",
   "name": "python3"
  },
  "language_info": {
   "codemirror_mode": {
    "name": "ipython",
    "version": 3
   },
   "file_extension": ".py",
   "mimetype": "text/x-python",
   "name": "python",
   "nbconvert_exporter": "python",
   "pygments_lexer": "ipython3",
   "version": "3.10.5"
  },
  "orig_nbformat": 4,
  "vscode": {
   "interpreter": {
    "hash": "f9d7f55ff03326ff21f75c75fe8c48042906bb172680ce40915ea83f896ac077"
   }
  }
 },
 "nbformat": 4,
 "nbformat_minor": 2
}
