{
 "cells": [
  {
   "cell_type": "markdown",
   "metadata": {},
   "source": [
    "# Frontier Impleentation\n",
    "\n",
    "..being prepared.."
   ]
  }
 ],
 "metadata": {
  "kernelspec": {
   "display_name": "Python 3.10.4 ('env': venv)",
   "language": "python",
   "name": "python3"
  },
  "language_info": {
   "name": "python",
   "version": "3.10.4"
  },
  "orig_nbformat": 4,
  "vscode": {
   "interpreter": {
    "hash": "d2cba40e5ab6e398265bf7d417619726eb474401557a77a7714e239b75c6fd30"
   }
  }
 },
 "nbformat": 4,
 "nbformat_minor": 2
}
