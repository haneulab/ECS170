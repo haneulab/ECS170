{
 "cells": [
  {
   "cell_type": "code",
   "execution_count": 3,
   "metadata": {},
   "outputs": [
    {
     "name": "stdout",
     "output_type": "stream",
     "text": [
      "/bin/bash: nvs: line 1: syntax error: unexpected end of file\n",
      "/bin/bash: error importing function definition for `nvs'\n",
      "/bin/bash: nvsudo: line 1: syntax error: unexpected end of file\n",
      "/bin/bash: error importing function definition for `nvsudo'\n",
      "Python 3.10.4\n",
      "/bin/bash: nvs: line 1: syntax error: unexpected end of file\n",
      "/bin/bash: error importing function definition for `nvs'\n",
      "/bin/bash: nvsudo: line 1: syntax error: unexpected end of file\n",
      "/bin/bash: error importing function definition for `nvsudo'\n",
      "pip 22.0.4 from /workspaces/ECS170/env/lib/python3.10/site-packages/pip (python 3.10)\n"
     ]
    }
   ],
   "source": [
    "!python --version\n",
    "!pip --version"
   ]
  }
 ],
 "metadata": {
  "kernelspec": {
   "display_name": "Python 3.10.4 ('env': venv)",
   "language": "python",
   "name": "python3"
  },
  "language_info": {
   "codemirror_mode": {
    "name": "ipython",
    "version": 3
   },
   "file_extension": ".py",
   "mimetype": "text/x-python",
   "name": "python",
   "nbconvert_exporter": "python",
   "pygments_lexer": "ipython3",
   "version": "3.10.4"
  },
  "orig_nbformat": 4,
  "vscode": {
   "interpreter": {
    "hash": "d2cba40e5ab6e398265bf7d417619726eb474401557a77a7714e239b75c6fd30"
   }
  }
 },
 "nbformat": 4,
 "nbformat_minor": 2
}
