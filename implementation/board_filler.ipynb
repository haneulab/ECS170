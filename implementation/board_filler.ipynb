{
  "nbformat": 4,
  "nbformat_minor": 0,
  "metadata": {
    "colab": {
      "name": "colab_1.ipynb",
      "provenance": [],
      "collapsed_sections": [],
      "toc_visible": true,
      "authorship_tag": "ABX9TyP9qLaejGZ/5cblU7MB34a2",
      "include_colab_link": true
    },
    "kernelspec": {
      "name": "python3",
      "display_name": "Python 3"
    },
    "language_info": {
      "name": "python"
    }
  },
  "cells": [
    {
      "cell_type": "markdown",
      "metadata": {
        "id": "view-in-github",
        "colab_type": "text"
      },
      "source": [
        "<a href=\"https://colab.research.google.com/github/haneulab/ECS170/blob/master/implementation/board_filler.ipynb\" target=\"_parent\"><img src=\"https://colab.research.google.com/assets/colab-badge.svg\" alt=\"Open In Colab\"/></a>"
      ]
    },
    {
      "cell_type": "code",
      "source": [
        "# board filling strategy (3x3)\n",
        "\n",
        "def docStrings(*args: str) -> None:\n",
        "    \"\"\"\n",
        "        1. define board & produce initial state\n",
        "        2. define the goal state\n",
        "        3. define action function\n",
        "        4. define transition function\n",
        "        5. define path cost (cost += 1 for each_move?)\n",
        "        ### our board size of(9 : 3x3)\n",
        "        ### our board initial state (for size n -> n - 1 elements filled with x in [1, n])\n",
        "        | 1 | 2 | 3 |\n",
        "        | 4 | 5 | 6 |\n",
        "        | 7 | 9 |   |\n",
        "        ### our board has goal state (transpose)\n",
        "        | 1 | 4 | 7 |\n",
        "        | 2 | 5 | 9 |\n",
        "        | 3 | 6 |   |\n",
        "    \"\"\"\n",
        "\n",
        "    pass"
      ],
      "metadata": {
        "id": "z_AA0_vxiAb_"
      },
      "execution_count": 4,
      "outputs": []
    },
    {
      "cell_type": "code",
      "source": [
        "# board class constructor\n",
        "import sys\n",
        "import math\n",
        "\n",
        "class SquareBoard:\n",
        "    def __init__(self, size: int) -> None:\n",
        "        if not math.sqrt(size).is_integer():\n",
        "            raise TypeError(f\"Both the contstructor argument 'size' and its squared root must be 'int' type. {size} or {math.sqrt(size)} is not 'int'.\")\n",
        "        if size < 4:\n",
        "            raise ValueError(f\"The constructor argument 'size' must be greater than or equal to 4 as 'int' type. {size} is less than 4\")\n",
        "        \n",
        "        self.size : int = size\n",
        "        self.dim : int = int(math.sqrt(size))\n",
        "\n",
        "        self.initial_state = self._define_IS()\n",
        "        self.current_state = self._define_IS()\n",
        "        print(self.__repr__())\n",
        "\n",
        "    # defining board's initial state\n",
        "    def _define_IS(self) -> list:\n",
        "        _list = []\n",
        "        transition = 0\n",
        "        while len(_list) < self.dim:\n",
        "            row = []\n",
        "            for i in range(transition, self.dim + transition):\n",
        "                row.append(i + 1)\n",
        "            _list.append(row)\n",
        "            transition += self.dim\n",
        "\n",
        "        _list[self.dim -1][self.dim -1] = None\n",
        "\n",
        "        return _list\n",
        "\n",
        "    # defining string representation of the class\n",
        "    def __repr__(self) -> str:\n",
        "        rep : str = \"\"\n",
        "\n",
        "        for pos,row in enumerate(self.current_state):\n",
        "            if pos + 1 == self.dim:\n",
        "                rep += f'{row}'\n",
        "                rep = rep.replace('None', '*')\n",
        "            else:\n",
        "                rep += f'{row}\\n'\n",
        "\n",
        "        rep =  f'{type(self)}({self.dim}, {self.dim})\\n' + rep + \"\"\n",
        "        return rep\n",
        "\n",
        "if __name__ == \"__main__\":\n",
        "    # board1 = SquareBoard(1) ValueError \n",
        "    # board2 = SquareBoard(12) TypeError\n",
        "    board_size_9 = SquareBoard(9)\n",
        "    board_size_16 = SquareBoard(16)\n"
      ],
      "metadata": {
        "colab": {
          "base_uri": "https://localhost:8080/"
        },
        "id": "guiP4zO8YIkq",
        "outputId": "9519c2a2-39bb-4126-a095-80344e9b235c"
      },
      "execution_count": 96,
      "outputs": [
        {
          "output_type": "stream",
          "name": "stdout",
          "text": [
            "<class '__main__.SquareBoard'>(3, 3)\n",
            "[1, 2, 3]\n",
            "[4, 5, 6]\n",
            "[7, 8, *]\n",
            "<class '__main__.SquareBoard'>(4, 4)\n",
            "[1, 2, 3, 4]\n",
            "[5, 6, 7, 8]\n",
            "[9, 10, 11, 12]\n",
            "[13, 14, 15, *]\n"
          ]
        }
      ]
    }
  ]
}