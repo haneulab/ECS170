{
  "nbformat": 4,
  "nbformat_minor": 0,
  "metadata": {
    "colab": {
      "name": "colab_1.ipynb",
      "provenance": [],
      "collapsed_sections": [],
      "toc_visible": true,
      "authorship_tag": "ABX9TyM4owzg5QoNzAF9LW1bkIzx",
      "include_colab_link": true
    },
    "kernelspec": {
      "name": "python3",
      "display_name": "Python 3"
    },
    "language_info": {
      "name": "python"
    }
  },
  "cells": [
    {
      "cell_type": "markdown",
      "metadata": {
        "id": "view-in-github",
        "colab_type": "text"
      },
      "source": [
        "<a href=\"https://colab.research.google.com/github/haneulab/ECS170/blob/master/implementation/board_filler.ipynb\" target=\"_parent\"><img src=\"https://colab.research.google.com/assets/colab-badge.svg\" alt=\"Open In Colab\"/></a>"
      ]
    },
    {
      "cell_type": "markdown",
      "source": [
        "# Board Filler\n",
        "\n",
        "Implementing Board Filler objects applying concepts including **Actions**, **Transitions**, **Processes**, and cost dependent iterative search method.\n",
        "\n",
        "## Delcarations\n",
        "\n",
        "```python\n",
        "from typing import Union, Callable, Optional\n",
        "\n",
        "BoardType = list[list[Union[int | None]]\n",
        "IndexType = list[int, int]\n",
        "\n",
        "class SquareBoard:\n",
        "    def define_initial_state() -> BoardType:\n",
        "        ...\n",
        "    def define_current_state() -> BoardType:\n",
        "        ...\n",
        "    def is_goal_state() -> bool:\n",
        "        ...\n",
        "    def action_of_movement(value: int, position : IndexType, optional_move: Callable[[int, IndexType], bool] | None = None) -> bool:\n",
        "        ...\n",
        "    def transition() -> None:\n",
        "        ...\n",
        "```\n",
        "\n",
        "## Implementations\n",
        "\n",
        "Please follow the below code blocks to observe implementations.\n"
      ],
      "metadata": {
        "id": "lpXDIngwq-mj"
      }
    },
    {
      "cell_type": "code",
      "source": [
        "# board class constructor\n",
        "import sys\n",
        "import math\n",
        "\n",
        "class SquareBoard:\n",
        "    def __init__(self, size: int) -> None:\n",
        "        # initial exception handler statements\n",
        "        if not math.sqrt(size).is_integer():\n",
        "            raise TypeError(f\"Both the contstructor argument 'size' and its squared root must be 'int' type. {size} or {math.sqrt(size)} is not 'int'.\")\n",
        "        if size < 4:\n",
        "            raise ValueError(f\"The constructor argument 'size' must be greater than or equal to 4 as 'int' type. {size} is less than 4\")\n",
        "        \n",
        "        # class instance variable definitions\n",
        "        self.size : int = size\n",
        "        self.dim : int = int(math.sqrt(size))\n",
        "        self.initial_state = self._define_IS()\n",
        "        self.current_state = self._define_IS()\n",
        "\n",
        "    # defining board's initial state\n",
        "    def _define_IS(self) -> list:\n",
        "        _list = []\n",
        "        transition = 0\n",
        "        while len(_list) < self.dim:\n",
        "            row = []\n",
        "            for i in range(transition, self.dim + transition):\n",
        "                row.append(i + 1)\n",
        "            _list.append(row)\n",
        "            transition += self.dim\n",
        "\n",
        "        _list[self.dim -1][self.dim -1] = None\n",
        "\n",
        "        return _list\n",
        "\n",
        "    # defining string representation of the class\n",
        "    def __repr__(self) -> str:\n",
        "        rep : str = \"\"\n",
        "\n",
        "        for pos,row in enumerate(self.current_state):\n",
        "            if pos + 1 == self.dim:\n",
        "                rep += f'{row}'\n",
        "                rep = rep.replace('None', '*')\n",
        "            else:\n",
        "                rep += f'{row}\\n'\n",
        "\n",
        "        rep =  f'{type(self)}({self.dim}, {self.dim})\\n' + rep + \"\"\n",
        "        return rep"
      ],
      "metadata": {
        "id": "guiP4zO8YIkq"
      },
      "execution_count": 97,
      "outputs": []
    }
  ]
}