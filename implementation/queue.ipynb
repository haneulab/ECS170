{
 "cells": [
  {
   "cell_type": "markdown",
   "metadata": {},
   "source": [
    "# Queue Implementation\n",
    "\n",
    "We will implement two types of queues in this module\n",
    "\n",
    "1. FIFO queue\n",
    "2. LIFO queue\n",
    "\n",
    "## Preparations\n",
    "\n",
    "### What is a queue?\n",
    "\n",
    "...\n",
    "\n",
    "### FIFO Queue\n",
    "\n",
    "...\n",
    "\n",
    "### LIFO Queue\n",
    "\n",
    "..."
   ]
  },
  {
   "cell_type": "code",
   "execution_count": 1,
   "metadata": {},
   "outputs": [],
   "source": [
    "# type alias\n",
    "from typing import List, Optional, Union, Generic, TypeVar"
   ]
  },
  {
   "cell_type": "code",
   "execution_count": 2,
   "metadata": {},
   "outputs": [
    {
     "name": "stdout",
     "output_type": "stream",
     "text": [
      "FIFO Queue\n"
     ]
    }
   ],
   "source": [
    "# FIFO Queue Implementation\n",
    "\n",
    "print(\"FIFO Queue\")"
   ]
  },
  {
   "cell_type": "code",
   "execution_count": 4,
   "metadata": {},
   "outputs": [
    {
     "name": "stdout",
     "output_type": "stream",
     "text": [
      "LIFO Queue\n"
     ]
    }
   ],
   "source": [
    "# LIFO Queue Implementation\n",
    "\n",
    "print(\"LIFO Queue\")"
   ]
  }
 ],
 "metadata": {
  "kernelspec": {
   "display_name": "Python 3.10.4 ('env': venv)",
   "language": "python",
   "name": "python3"
  },
  "language_info": {
   "codemirror_mode": {
    "name": "ipython",
    "version": 3
   },
   "file_extension": ".py",
   "mimetype": "text/x-python",
   "name": "python",
   "nbconvert_exporter": "python",
   "pygments_lexer": "ipython3",
   "version": "3.10.4"
  },
  "orig_nbformat": 4,
  "vscode": {
   "interpreter": {
    "hash": "d2cba40e5ab6e398265bf7d417619726eb474401557a77a7714e239b75c6fd30"
   }
  }
 },
 "nbformat": 4,
 "nbformat_minor": 2
}
